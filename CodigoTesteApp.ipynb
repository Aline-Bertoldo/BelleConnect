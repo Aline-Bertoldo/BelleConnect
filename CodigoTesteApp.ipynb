{
  "nbformat": 4,
  "nbformat_minor": 0,
  "metadata": {
    "colab": {
      "provenance": [],
      "authorship_tag": "ABX9TyPfGfkK3EDaA44NTjgJu6GO",
      "include_colab_link": true
    },
    "kernelspec": {
      "name": "python3",
      "display_name": "Python 3"
    },
    "language_info": {
      "name": "python"
    }
  },
  "cells": [
    {
      "cell_type": "markdown",
      "metadata": {
        "id": "view-in-github",
        "colab_type": "text"
      },
      "source": [
        "<a href=\"https://colab.research.google.com/github/AlineBertoldo16/BelleConnect/blob/main/CodigoTesteApp.ipynb\" target=\"_parent\"><img src=\"https://colab.research.google.com/assets/colab-badge.svg\" alt=\"Open In Colab\"/></a>"
      ]
    },
    {
      "cell_type": "code",
      "execution_count": null,
      "metadata": {
        "id": "4sbcDHZKgq5S"
      },
      "outputs": [],
      "source": [
        "import random\n",
        "import time\n",
        "\n",
        "class SleepMonitor:\n",
        "    def __init__(self):\n",
        "        self.stress_level = 0\n",
        "        self.sleep_phase = \"Desconhecida\"\n",
        "\n",
        "    def measure_stress_level(self):\n",
        "        # Simulação de medição de nível de estresse\n",
        "        self.stress_level = random.randint(1, 10)\n",
        "\n",
        "    def measure_sleep_phase(self):\n",
        "        # Simulação de medição de fase do sono\n",
        "        phase = random.random()\n",
        "        if phase < 0.33:\n",
        "            self.sleep_phase = \"Leve\"\n",
        "        elif phase < 0.66:\n",
        "            self.sleep_phase = \"Profundo\"\n",
        "        else:\n",
        "            self.sleep_phase = \"REM\"\n",
        "\n",
        "    def get_sleep_data(self):\n",
        "        return {\n",
        "            \"sleep_phase\": self.sleep_phase,\n",
        "            \"stress_level\": self.stress_level\n",
        "        }\n",
        "\n",
        "def print_highlighted(message):\n",
        "    print(\"\\033[1m\\033[94m\" + message + \"\\033[0m\")  # Reseta o estilo após imprimir a mensagem\n",
        "\n",
        "def main():\n",
        "    monitor = SleepMonitor()\n",
        "\n",
        "    while True:\n",
        "        monitor.measure_stress_level()\n",
        "        monitor.measure_sleep_phase()\n",
        "\n",
        "        sleep_data = monitor.get_sleep_data()\n",
        "\n",
        "        print(\"Fase do sono:\", end=\" \")\n",
        "\n",
        "        # Destaca a mensagem de fase do sono se for \"REM\"\n",
        "        if sleep_data[\"sleep_phase\"] == \"REM\":\n",
        "            print_highlighted(sleep_data[\"sleep_phase\"])\n",
        "        else:\n",
        "            print(sleep_data[\"sleep_phase\"])\n",
        "\n",
        "        print(\"Nível de estresse:\", sleep_data[\"stress_level\"])\n",
        "\n",
        "        time.sleep(5)  # Espera 5 segundos entre cada medição\n",
        "\n",
        "if __name__ == \"__main__\":\n",
        "    main()\n"
      ]
    }
  ]
}